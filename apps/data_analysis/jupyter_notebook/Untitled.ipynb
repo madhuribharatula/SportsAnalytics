{
 "cells": [
  {
   "cell_type": "code",
   "execution_count": 1,
   "metadata": {},
   "outputs": [],
   "source": [
    "import numpy as np\n",
    "import scipy as sp\n",
    "from scipy import signal\n",
    "import pandas as pd\n",
    "import matplotlib\n",
    "import matplotlib.pyplot as plt\n",
    "%matplotlib inline\n",
    "\n",
    "TIMEDIFF = 10\n",
    "\n",
    "def load_file(file_name, stroke_type):\n",
    "    data = pd.read_csv(file_name, sep=',',header=0)\n",
    "    data[\"timestamp\"] = TIMEDIFF\n",
    "    data[\"stroke\"] = stroke_type\n",
    "    return data\n",
    "\n",
    "def merge_data(data_set):\n",
    "    merge_data =  pd.concat([data_set], ignore_index=True)\n",
    "    merge_data[\"timestamp\"] = merge_data[\"timestamp\"].cumsum()\n",
    "    \n",
    "def get_gyro_data(data):\n",
    "    return data[['GyroX', 'GyroY', 'GyroZ']];\n",
    "    \n",
    "def get_acc_data(data):\n",
    "    return data[['AccX', 'AccY', 'AccZ']]\n",
    "\n",
    "def get_orient_data(data):\n",
    "    return data[['orientation_w', 'orientation_x', 'orientation_y', 'orientation_z']]\n",
    "    \n",
    "def get_time_data(data):\n",
    "    return data['timestamp']\n",
    "\n",
    "\n",
    "    \n",
    "    "
   ]
  }
 ],
 "metadata": {
  "kernelspec": {
   "display_name": "Python 2",
   "language": "python",
   "name": "python2"
  },
  "language_info": {
   "codemirror_mode": {
    "name": "ipython",
    "version": 2
   },
   "file_extension": ".py",
   "mimetype": "text/x-python",
   "name": "python",
   "nbconvert_exporter": "python",
   "pygments_lexer": "ipython2",
   "version": "2.7.14"
  }
 },
 "nbformat": 4,
 "nbformat_minor": 2
}
