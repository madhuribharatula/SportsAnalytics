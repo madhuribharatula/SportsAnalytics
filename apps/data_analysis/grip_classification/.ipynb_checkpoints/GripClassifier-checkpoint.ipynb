{
 "cells": [
  {
   "cell_type": "code",
   "execution_count": 415,
   "metadata": {},
   "outputs": [],
   "source": [
    "#Data import using Numpy\n",
    "\n",
    "import numpy as np\n",
    "import csv\n",
    "import random\n",
    "from sklearn.preprocessing import StandardScaler, MinMaxScaler\n",
    "import matplotlib.pyplot as plt\n",
    "import matplotlib.cm as cm\n",
    "from scipy.stats import norm\n"
   ]
  },
  {
   "cell_type": "markdown",
   "metadata": {},
   "source": [
    "__Load Data File__\n",
    "\n",
    "We are using csv reader to load data file to our numpy array"
   ]
  },
  {
   "cell_type": "code",
   "execution_count": null,
   "metadata": {},
   "outputs": [],
   "source": [
    "data_dir = \"data/\"\n",
    "file_name = data_dir + \"BasicDefaultTypeEMG.csv\"\n",
    "\n",
    "reader = csv.reader(open(file_name, \"rb\"), delimiter=\",\")\n",
    "x = list(reader)\n",
    "result = np.array(x[1:])"
   ]
  },
  {
   "cell_type": "markdown",
   "metadata": {},
   "source": [
    "__Extract Imp Featurs__\n",
    "\n",
    "From the loaded data, we are extracting main features that is emg pods value which is collected from myo arm band device, this will be feeded in the neural network. We extract the target value from the file and store it in the grips_data.\n"
   ]
  },
  {
   "cell_type": "code",
   "execution_count": 174,
   "metadata": {},
   "outputs": [
    {
     "name": "stdout",
     "output_type": "stream",
     "text": [
      "(120133, 19)\n",
      "The Continental Grip  (Bevel #2)  Rows  are 21243\n",
      "The Eastern Forehand Grip (Bevel #3)  Rows  are 18314\n",
      "The Semi-Western Forehand Grip (Bevel #3)  Rows  are 22999\n",
      "The Western Forehand Grip (Bevel #5)  Rows  are 24435\n"
     ]
    }
   ],
   "source": [
    "#Number of rows that is going to be processed\n",
    "#Number of each defined for each classificatinon\n",
    "print result.shape\n",
    "emg_pods = result[33142:,1:9].astype('float64')\n",
    "grips_data = result[33142:,-1]\n",
    "grips_type = np.unique(grips_data)\n",
    "\n",
    "\n",
    "for grip in grips_type:\n",
    "    print(\"%s  Rows  are %d\" % (grip, len(grips_data[grips_data ==grip])))\n"
   ]
  },
  {
   "cell_type": "markdown",
   "metadata": {},
   "source": [
    "__Feature Scaling__\n",
    "\n",
    "We are normalizing our data using standard scaler, we should try different scaler to find out the result"
   ]
  },
  {
   "cell_type": "code",
   "execution_count": null,
   "metadata": {},
   "outputs": [],
   "source": [
    "scaler = StandardScaler()\n",
    "#scaler = MinMaxScaler()\n",
    "scaled_data = scaler.fit_transform(emg_pods)\n",
    "emg_pods =  scaled_data\n"
   ]
  },
  {
   "cell_type": "markdown",
   "metadata": {},
   "source": [
    "__Analyzing the data__\n",
    "\n",
    "We are taking standard deviation and mean of the emg pods, using this value we are ploting a normal distribution graphs. \n",
    "\n",
    "We are also using scatter to plot to define a correlation between pod values and grip types.\n",
    "\n"
   ]
  },
  {
   "cell_type": "code",
   "execution_count": null,
   "metadata": {
    "scrolled": false
   },
   "outputs": [],
   "source": [
    "\n",
    "grip_count = 4\n",
    "figs, axs = plt.subplots(nrows=grip_count, ncols=1, figsize=(18,40))\n",
    "s_fig, s_axs = plt.subplots(nrows=4, ncols=1, figsize=(18,40)) \n",
    "\n",
    "for type_id in range(grip_count):\n",
    "\n",
    "    random_select = random.sample(range(15000), 30)\n",
    "    t = emg_pods[grips_data == grips_type[type_id]] #semi western\n",
    "    #y = (np.random.rand(len(random_select), 1) + type_id)\n",
    "    #sd = np.std(t, axis=0)\n",
    "    mean = np.mean(t, axis=0)\n",
    "    #color=next(colors)\n",
    "    colors = iter(cm.rainbow(np.linspace(0, 1, 8)))\n",
    "\n",
    "    # Mean = 0, SD = 2.\n",
    "    for i in range(8):\n",
    "        s_axs[type_id].scatter(t[random_select,i], y, color=next(colors))\n",
    "        s_axs[type_id].plot(mean[i].repeat(30), y)\n",
    "        x_axis = np.arange(np.min(t[:,i]), np.max(t[:,i]), 1)\n",
    "        axs[type_id].plot(x_axis, norm.pdf(x_axis,mean[i], 2), label = \"pod\" + str(i))\n",
    "        s_axs[type_id].set_title(\"Grip Type %s\" % grips_type[type_id])\n",
    "        \n",
    "\n",
    "    axs[type_id].legend('12345678',shadow=True, fancybox=True, loc=\"upper right\");\n",
    "    axs[type_id].set_title(grips_type[type_id] )\n"
   ]
  },
  {
   "cell_type": "markdown",
   "metadata": {},
   "source": [
    "__Label Classifiers__\n",
    "\n",
    "We are using one hot encoding, for the grip types coloumn\n",
    "\n",
    "Working => \n",
    "\n",
    "grips_data[\"conti.\", \"western\", etc]\n",
    "\n",
    "then resultant vector would\n",
    "\n",
    "[[1,0,0,0], [0,0,0,1],..etc] "
   ]
  },
  {
   "cell_type": "code",
   "execution_count": 280,
   "metadata": {},
   "outputs": [],
   "source": [
    "#Data Preprossing\n",
    "#removing extra coloumns\n",
    "# onehot encoding - label classifier\n",
    "\n",
    "from sklearn.preprocessing import OneHotEncoder,LabelEncoder\n",
    "\n",
    "label_encoder = LabelEncoder()\n",
    "integer_encoded = label_encoder.fit_transform(grips_data)\n",
    "\n",
    "onehot_encoder = OneHotEncoder(sparse=False)\n",
    "integer_encoded = integer_encoded.reshape(len(integer_encoded), 1)\n",
    "Y_labels = onehot_encoder.fit_transform(integer_encoded)\n",
    "\n",
    "\n",
    "#prepare training-set, test-set, valid-set.\n"
   ]
  },
  {
   "cell_type": "markdown",
   "metadata": {},
   "source": [
    "__Preparing Data Set__\n",
    "\n",
    "We are using train test split, to create a Training and Test data.\n",
    "Also we are using half of the test data as validation data set which\n",
    "well help us check how out model is performing on the go"
   ]
  },
  {
   "cell_type": "code",
   "execution_count": 418,
   "metadata": {},
   "outputs": [
    {
     "name": "stdout",
     "output_type": "stream",
     "text": [
      "(60893, 8)\n",
      "(13049, 8)\n",
      "(13049, 8)\n"
     ]
    }
   ],
   "source": [
    "from sklearn.model_selection import train_test_split\n",
    "X_train, X_test, y_train, y_test = train_test_split(emg_pods, Y_labels,  test_size=0.3, random_state=1)\n",
    "X_test, X_val, y_test, y_val = train_test_split(X_test, y_test, test_size=0.5, random_state=1)\n",
    "X_train = scaler.fit_transform(X_train)\n",
    "X_val = scaler.fit_transform(X_val)\n",
    "X_test = scaler.fit_transform(X_test)\n",
    "print X_train.shape\n",
    "print X_test.shape\n",
    "print X_val.shape\n",
    "X_train = np.expand_dims(X_train, axis=2)\n",
    "X_val = np.expand_dims(X_val, axis=2)\n",
    "X_test = np.expand_dims(X_test, axis=2)"
   ]
  },
  {
   "cell_type": "code",
   "execution_count": 357,
   "metadata": {},
   "outputs": [
    {
     "name": "stdout",
     "output_type": "stream",
     "text": [
      "_________________________________________________________________\n",
      "Layer (type)                 Output Shape              Param #   \n",
      "=================================================================\n",
      "dense_56 (Dense)             (None, 16)                144       \n",
      "_________________________________________________________________\n",
      "dense_57 (Dense)             (None, 4)                 68        \n",
      "=================================================================\n",
      "Total params: 212\n",
      "Trainable params: 212\n",
      "Non-trainable params: 0\n",
      "_________________________________________________________________\n"
     ]
    }
   ],
   "source": [
    "#Create MultiLayer Perceptron Network\n",
    "\n",
    "\n",
    "from keras.layers import Conv2D, MaxPooling2D, GlobalAveragePooling2D\n",
    "from keras.layers import Dropout, Flatten, Dense, BatchNormalization, LeakyReLU\n",
    "from keras.models import Sequential\n",
    "\n",
    "\n",
    "model = Sequential()\n",
    "model.add(Dense(16, input_shape=(8,), activation = 'relu', kernel_initializer='truncated_normal'))\n",
    "model.add(Dense(len(grips_type), activation='softmax', kernel_initializer='truncated_normal'))\n",
    "\n",
    "model.summary()"
   ]
  },
  {
   "cell_type": "code",
   "execution_count": 436,
   "metadata": {},
   "outputs": [
    {
     "name": "stdout",
     "output_type": "stream",
     "text": [
      "_________________________________________________________________\n",
      "Layer (type)                 Output Shape              Param #   \n",
      "=================================================================\n",
      "conv1d_116 (Conv1D)          (None, 8, 32)             64        \n",
      "_________________________________________________________________\n",
      "conv1d_117 (Conv1D)          (None, 8, 64)             2112      \n",
      "_________________________________________________________________\n",
      "dropout_76 (Dropout)         (None, 8, 64)             0         \n",
      "_________________________________________________________________\n",
      "conv1d_118 (Conv1D)          (None, 7, 128)            16512     \n",
      "_________________________________________________________________\n",
      "conv1d_119 (Conv1D)          (None, 6, 128)            32896     \n",
      "_________________________________________________________________\n",
      "dropout_77 (Dropout)         (None, 6, 128)            0         \n",
      "_________________________________________________________________\n",
      "conv1d_120 (Conv1D)          (None, 4, 256)            98560     \n",
      "_________________________________________________________________\n",
      "conv1d_121 (Conv1D)          (None, 2, 256)            196864    \n",
      "_________________________________________________________________\n",
      "dropout_78 (Dropout)         (None, 2, 256)            0         \n",
      "_________________________________________________________________\n",
      "flatten_24 (Flatten)         (None, 512)               0         \n",
      "_________________________________________________________________\n",
      "dense_90 (Dense)             (None, 64)                32832     \n",
      "_________________________________________________________________\n",
      "dropout_79 (Dropout)         (None, 64)                0         \n",
      "_________________________________________________________________\n",
      "dense_91 (Dense)             (None, 4)                 260       \n",
      "=================================================================\n",
      "Total params: 380,100\n",
      "Trainable params: 380,100\n",
      "Non-trainable params: 0\n",
      "_________________________________________________________________\n"
     ]
    }
   ],
   "source": [
    "from keras.layers import Conv1D, MaxPooling1D, GlobalAveragePooling2D\n",
    "from keras.layers import Dropout, Flatten, Dense, BatchNormalization, LeakyReLU\n",
    "from keras.models import Sequential\n",
    "model = Sequential()\n",
    "\n",
    "model.add(Conv1D(32, 1, activation='relu', input_shape=(8,1)))\n",
    "model.add(Conv1D(64, 1, activation='relu'))\n",
    "model.add(Dropout(.4))\n",
    "model.add(Conv1D(128, 2, activation='relu', ))\n",
    "model.add(Conv1D(128, 2, activation='relu', ))\n",
    "model.add(Dropout(.4))\n",
    "model.add(Conv1D(256, 3, activation='relu', ))\n",
    "model.add(Conv1D(256, 3, activation='relu', ))\n",
    "model.add(Dropout(.4))\n",
    "model.add(Flatten())\n",
    "model.add(Dense(64, activation='relu'))\n",
    "model.add(Dropout(.4))\n",
    "model.add(Dense(len(grips_type), activation='softmax', kernel_initializer='truncated_normal'))\n",
    "\n",
    "model.summary()\n"
   ]
  },
  {
   "cell_type": "code",
   "execution_count": 437,
   "metadata": {},
   "outputs": [
    {
     "name": "stdout",
     "output_type": "stream",
     "text": [
      "(60893, 8, 1)\n"
     ]
    }
   ],
   "source": [
    "#Test MultiLayer Network\n",
    "model.compile(loss = 'categorical_crossentropy', optimizer='adam', metrics=['accuracy'])\n",
    "\n",
    "print X_train.shape"
   ]
  },
  {
   "cell_type": "code",
   "execution_count": null,
   "metadata": {},
   "outputs": [
    {
     "name": "stdout",
     "output_type": "stream",
     "text": [
      "Train on 60893 samples, validate on 13049 samples\n",
      "Epoch 1/20\n",
      "60893/60893 [==============================] - 26s 426us/step - loss: 1.3809 - acc: 0.2821 - val_loss: 1.3826 - val_acc: 0.2731\n",
      "Epoch 2/20\n",
      "60893/60893 [==============================] - 24s 390us/step - loss: 1.3806 - acc: 0.2827 - val_loss: 1.3825 - val_acc: 0.2731\n",
      "Epoch 3/20\n",
      "60893/60893 [==============================] - 24s 386us/step - loss: 1.3805 - acc: 0.2827 - val_loss: 1.3829 - val_acc: 0.2731\n",
      "Epoch 4/20\n",
      "60893/60893 [==============================] - 24s 391us/step - loss: 1.3805 - acc: 0.2827 - val_loss: 1.3825 - val_acc: 0.2731\n",
      "Epoch 5/20\n",
      "60893/60893 [==============================] - 23s 378us/step - loss: 1.3805 - acc: 0.2827 - val_loss: 1.3827 - val_acc: 0.2731\n",
      "Epoch 6/20\n",
      "60893/60893 [==============================] - 23s 378us/step - loss: 1.3805 - acc: 0.2827 - val_loss: 1.3825 - val_acc: 0.2731\n",
      "Epoch 7/20\n",
      "60893/60893 [==============================] - 24s 393us/step - loss: 1.3805 - acc: 0.2827 - val_loss: 1.3825 - val_acc: 0.2731\n",
      "Epoch 8/20\n",
      "60893/60893 [==============================] - 24s 396us/step - loss: 1.3804 - acc: 0.2827 - val_loss: 1.3825 - val_acc: 0.2731\n",
      "Epoch 9/20\n",
      "14656/60893 [======>.......................] - ETA: 17s - loss: 1.3795 - acc: 0.2793"
     ]
    }
   ],
   "source": [
    "\n",
    "model.fit(X_train, y_train, epochs=20, batch_size=32, validation_data=(X_val, y_val),verbose=1)"
   ]
  },
  {
   "cell_type": "code",
   "execution_count": 399,
   "metadata": {},
   "outputs": [
    {
     "name": "stdout",
     "output_type": "stream",
     "text": [
      "Test accuracy: 42.0000%\n"
     ]
    }
   ],
   "source": [
    "\n",
    "\n",
    "model_prediction = [np.argmax(model.predict(np.expand_dims(test_vector, axis=0))) for test_vector in X_test]\n",
    "\n",
    "# report test accuracy\n",
    "test_accuracy = 100*np.sum(np.array(model_prediction)==np.argmax(y_test, axis=1))/len(model_prediction)\n",
    "print('Test accuracy: %.4f%%' % test_accuracy)"
   ]
  },
  {
   "cell_type": "code",
   "execution_count": 192,
   "metadata": {},
   "outputs": [
    {
     "name": "stdout",
     "output_type": "stream",
     "text": [
      "[3, 2, 2, 3, 3, 2, 3, 2, 3, 3, 3, 3, 3, 2, 3, 2, 2, 2, 1, 3, 3, 1, 3, 3, 3, 3, 1, 2, 1, 1, 3, 0, 2, 2, 1, 3, 3, 0, 3, 2, 2, 1, 0, 2, 2, 2, 0, 2, 1, 2, 0, 1, 3, 3, 2, 2, 2, 2, 3, 3, 3, 2, 2, 2, 2, 3, 2, 1, 3, 3, 3, 2, 3, 3, 2, 1, 1, 3, 2, 3, 1, 2, 2, 3, 0, 3, 3, 3, 3, 0, 1, 2, 1, 2, 2, 2, 2, 2, 2]\n"
     ]
    }
   ],
   "source": [
    "print model_prediction[1:100]"
   ]
  },
  {
   "cell_type": "code",
   "execution_count": 193,
   "metadata": {},
   "outputs": [
    {
     "name": "stdout",
     "output_type": "stream",
     "text": [
      "shafo\n"
     ]
    }
   ],
   "source": [
    "print(\"shafo\")"
   ]
  },
  {
   "cell_type": "code",
   "execution_count": 401,
   "metadata": {},
   "outputs": [
    {
     "name": "stdout",
     "output_type": "stream",
     "text": [
      "[[ 2  1  1  1]\n",
      " [ 5  9  5  6]\n",
      " [ 7  5 17  3]\n",
      " [ 9  7  6 15]]\n",
      "Normalized confusion matrix\n",
      "[[0.4  0.2  0.2  0.2 ]\n",
      " [0.2  0.36 0.2  0.24]\n",
      " [0.22 0.16 0.53 0.09]\n",
      " [0.24 0.19 0.16 0.41]]\n",
      "Normalized confusion matrix\n"
     ]
    },
    {
     "data": {
      "image/png": "[encoded data removed]",
      "text/plain": [
       "<matplotlib.figure.Figure at 0x1311bc790>"
      ]
     },
     "metadata": {},
     "output_type": "display_data"
    }
   ],
   "source": [
    "import itertools\n",
    "import numpy as np\n",
    "import matplotlib.pyplot as plt\n",
    "%matplotlib inline\n",
    "\n",
    "from sklearn import svm, datasets\n",
    "from sklearn.metrics import confusion_matrix\n",
    "\n",
    "\n",
    "## we need a better way analyse the confusion matrix for 133 labels.\n",
    "\n",
    "def plot_confusion_matrix(cm, classes,\n",
    "                          normalize=False,\n",
    "                          title='Confusion matrix',\n",
    "                          cmap=plt.cm.Blues):\n",
    "    \"\"\"\n",
    "    This function prints and plots the confusion matrix.\n",
    "    Normalization can be applied by setting `normalize=True`.\n",
    "    \"\"\"\n",
    "    if normalize:\n",
    "        cm = cm.astype('float') / cm.sum(axis=1)[:, np.newaxis]\n",
    "        print(\"Normalized confusion matrix\")\n",
    "    else:\n",
    "        print('Confusion matrix, without normalization')\n",
    "        \n",
    "\n",
    "    plt.imshow(cm, interpolation='nearest', cmap=cmap)\n",
    "    plt.title(title)\n",
    "    plt.colorbar()\n",
    "    tick_marks = np.arange(len(classes))\n",
    "    plt.xticks(tick_marks, classes, rotation=90)\n",
    "    plt.yticks(tick_marks, classes)\n",
    "\n",
    "    fmt = '.2f' if normalize else 'd'\n",
    "    thresh = cm.max() / 2.\n",
    "    for i, j in itertools.product(range(cm.shape[0]), range(cm.shape[1])):\n",
    "        plt.text(j, i, format(cm[i, j], fmt),\n",
    "                 horizontalalignment=\"center\",\n",
    "                 color=\"white\" if cm[i, j] > thresh else \"black\")\n",
    "\n",
    "    plt.tight_layout()\n",
    "    plt.ylabel('True label')\n",
    "    plt.xlabel('Predicted label')\n",
    "\n",
    "# Compute confusion matrix\n",
    "test_targets_result = np.argmax(y_test, axis=1)\n",
    "cnf_matrix = confusion_matrix(model_prediction[1:100], test_targets_result[1:100])\n",
    "np.set_printoptions(precision=2)\n",
    "print cnf_matrix\n",
    "\n",
    "cm = cnf_matrix.astype('float') / cnf_matrix.sum(axis=1)[:, np.newaxis]\n",
    "print(\"Normalized confusion matrix\")\n",
    "print cm\n",
    "# Plot non-normalized confusion matrix\n",
    "#plt.figure()\n",
    "#plot_confusion_matrix(cnf_matrix, classes=grip_types,\n",
    "#                      title='Confusion matrix, without normalization')\n",
    "\n",
    "# Plot normalized confusion matrix\n",
    "plt.figure(figsize=(10,10))\n",
    "plot_confusion_matrix(cnf_matrix, classes=grips_type, normalize=True,\n",
    "                      title='Normalized confusion matrix')\n",
    "\n",
    "#plt.show()"
   ]
  },
  {
   "cell_type": "code",
   "execution_count": 407,
   "metadata": {},
   "outputs": [],
   "source": [
    "##testing live data \n",
    "\n",
    "\n",
    "from collections import Counter\n",
    "def read_emg_from_file(file_name):\n",
    "    reader = csv.reader(open(file_name, \"rb\"), delimiter=\",\")\n",
    "    data = list(reader)\n",
    "    data_set = np.array(x[1:])[:,1:9].astype('float64')\n",
    "    return data_set\n",
    "    \n",
    "\n",
    "def detect_grip(filename):\n",
    "    predict_data_set =  read_emg_from_file(file_name)\n",
    "    predict_data_set = np.expand_dims(predict_data_set, axis=2)\n",
    "    model_prediction = [np.argmax( model.predict(np.expand_dims(test_vector, axis=0))) for test_vector in emg_pods_test]\n",
    "    counter = Counter(model_prediction).most_common(4)\n",
    "    return grips_type[counter[0][0]]\n",
    "    \n"
   ]
  },
  {
   "cell_type": "code",
   "execution_count": 408,
   "metadata": {},
   "outputs": [
    {
     "name": "stdout",
     "output_type": "stream",
     "text": [
      "The Eastern Forehand Grip (Bevel #3)\n"
     ]
    }
   ],
   "source": [
    "file_name = data_dir + \"test_continental.csv\"\n",
    "print detect_grip(file_name)"
   ]
  },
  {
   "cell_type": "code",
   "execution_count": 387,
   "metadata": {},
   "outputs": [
    {
     "name": "stdout",
     "output_type": "stream",
     "text": [
      "[1, 0, 0, 0, 1, 0, 1, 1, 1, 0, 3, 0, 1, 0, 0, 1, 1, 1, 1, 0, 1, 0, 1, 1, 0, 1, 0, 3, 3, 0, 1, 1, 3, 1, 1, 0, 3, 0, 1, 2, 0, 2, 0, 3, 1, 3, 0, 0, 1, 1, 1, 0, 0, 1, 1, 1, 1, 0, 1, 3, 2, 0, 1, 1, 1, 0, 0, 0, 1, 0, 0, 3, 0, 3, 1, 3, 1, 0, 3, 1, 1, 1, 1, 1, 0, 3, 0, 1, 0, 1, 0, 1, 1, 0, 0, 3, 0, 3, 3, 2, 1, 1, 0, 1, 0, 0, 1, 1, 1, 3, 1, 3, 0, 1, 1, 0, 0, 0, 1, 3, 1, 1, 1, 0, 0, 1, 0, 0, 0, 0, 0, 1, 0, 1, 1, 2, 3, 0, 3, 1, 0, 1, 3, 0, 0, 0, 3, 0, 3, 1, 3, 1, 1, 1, 3, 3, 1, 3, 1, 1, 1, 1, 0, 1, 0, 0, 0, 0, 3, 1, 1, 1, 1, 1, 1, 2, 0, 0, 3, 1, 0, 1, 1, 1, 2, 1, 0, 1, 3, 0, 1, 1, 0, 1, 3, 0, 1, 1, 3, 1, 1, 1, 1, 1, 1, 3, 0, 0, 0, 1, 1, 0, 0, 3, 1, 3, 3, 0, 1, 1, 0, 3, 3, 1, 3, 1, 0, 1, 1, 0, 0, 1, 3, 1, 0, 1, 1, 0, 2, 0, 0, 1, 1, 1, 2, 3, 1, 1, 1, 1, 1, 1, 0, 1, 0, 3, 3, 0, 0, 0, 3, 2, 0, 3, 1, 0, 1, 1, 1, 1, 1, 1, 1, 1, 1, 1, 1, 3, 1, 0, 3, 1, 1, 0, 0, 3, 1, 3, 1, 0, 1, 1, 0, 1, 3, 0, 1, 1, 0, 3, 2, 0, 1, 1, 1, 0, 3, 0, 1, 3, 1, 0, 0, 1, 0, 3, 1, 0, 1, 0, 0, 0, 1, 1, 1, 0, 3, 0, 3, 1, 1, 1, 3, 0, 3, 1, 3, 0, 1, 1, 1, 1, 1, 1, 0, 1, 1, 1, 1, 0, 0, 1, 3, 0, 3, 3, 3, 0, 1, 0, 0, 1, 3, 1, 3, 1, 1, 1, 0, 0, 3, 1, 0, 3, 1, 3, 1, 0, 1, 1, 3, 0, 1, 1, 1, 3, 0, 1, 1, 1, 0, 0, 0, 0, 3, 0, 1, 0, 1, 1, 0, 3, 0, 1, 2, 1, 1, 1, 1, 1, 0, 1, 3, 0, 1, 0, 1, 3, 1, 1, 3, 1, 1, 1, 0, 1, 0, 3, 0, 3, 1, 3, 0, 1, 1, 0, 1, 0, 3, 0, 1, 1, 1, 1, 3, 0, 1, 3, 0, 0, 1, 3, 3, 1, 0, 0, 0, 3, 1, 0, 1, 3, 3, 0, 1, 3, 1, 0, 1, 0, 0, 1, 2, 0, 3, 1, 1, 1, 1, 3, 3, 0, 1, 1, 3, 1, 0, 1, 1, 1, 0, 0, 1, 1, 1, 1, 0, 1, 0, 0, 3, 1, 0, 3, 0, 0, 1, 1, 0, 0, 1, 0, 0, 1, 1, 0, 1, 3, 1, 1, 1, 2, 2, 1, 1, 0, 1, 1, 1, 0, 2, 1, 3, 3, 1, 1, 1, 1, 1, 3, 3, 1, 0, 1, 0, 1, 0, 0, 0, 1, 0, 1, 0, 1, 0, 2, 1, 1, 2, 0, 0, 1, 1, 1, 3, 1, 3, 1, 0, 1, 1, 1, 0, 1, 0, 1, 1, 0, 0, 1, 3, 3, 1, 0, 0, 0, 1, 1, 1, 0, 0, 1, 3, 3, 1, 1, 0, 3, 0, 3, 0, 0, 1, 1, 1, 0, 1, 3, 1, 0, 0, 0, 3, 0, 1, 1, 1, 0, 1, 1, 1, 1, 1, 1, 1, 1, 1, 1, 1, 0, 3, 1]\n",
      "[(1, 301), (0, 203), (3, 110), (2, 18)]\n",
      "The Eastern Forehand Grip (Bevel #3)\n"
     ]
    }
   ],
   "source": [
    "##testing live data \n",
    "file_name = data_dir + \"test_semiwesternfore.csv\"\n",
    "\n",
    "\n",
    "reader = csv.reader(open(file_name, \"rb\"), delimiter=\",\")\n",
    "x = list(reader)\n",
    "emg_pods_test = np.array(x[1:])[:,1:9].astype('float32')\n",
    "emg_pods_test = np.expand_dims(emg_pods_test, axis=2)\n",
    "new_model_prediction = [np.argmax(model.predict(np.expand_dims(test_vector, axis=0))) for test_vector in emg_pods_test]\n",
    "print new_model_prediction\n",
    "from collections import Counter\n",
    "counter = Counter(new_model_prediction).most_common(5)\n",
    "print (counter)\n",
    "print(grips_type[counter[0][0]])\n"
   ]
  },
  {
   "cell_type": "code",
   "execution_count": 388,
   "metadata": {},
   "outputs": [
    {
     "name": "stdout",
     "output_type": "stream",
     "text": [
      "[1, 1, 3, 0, 0, 1, 1, 0, 1, 1, 1, 1, 1, 3, 3, 0, 1, 1, 0, 0, 0, 2, 0, 1, 1, 1, 1, 1, 0, 1, 1, 1, 0, 0, 0, 1, 0, 3, 0, 1, 0, 3, 0, 2, 0, 1, 0, 0, 1, 3, 3, 1, 0, 1, 0, 0, 0, 0, 0, 1, 1, 0, 1, 2, 3, 0, 1, 3, 0, 1, 1, 2, 1, 0, 3, 1, 1, 1, 0, 0, 0, 1, 3, 1, 0, 1, 1, 0, 1, 1, 1, 0, 1, 1, 1, 3, 1, 3, 1, 1, 1, 3, 1, 0, 0, 1, 1, 0, 0, 1, 0, 1, 1, 1, 1, 1, 3, 1, 3, 3, 1, 3, 1, 1, 1, 1, 1, 0, 1, 2, 3, 0, 0, 1, 1, 1, 1, 1, 3, 1, 3, 0, 1, 1, 1, 0, 3, 1, 0, 1, 3, 1, 3, 0, 0, 1, 0, 0, 1, 1, 1, 0, 0, 3, 0, 0, 3, 1, 1, 1, 3, 1, 2, 1, 1, 3, 1, 1, 0, 0, 3, 1, 1, 1, 3, 3, 0, 3, 1, 1, 0, 0, 0, 0, 3, 1, 1, 1, 1, 3, 0, 1, 0, 0, 1, 0, 0, 1, 1, 1, 1, 2, 0, 1, 0, 0, 1, 3, 0, 0, 1, 3, 3, 2, 3, 1, 1, 0, 2, 3, 0, 3, 1, 0, 2, 1, 0, 1, 0, 0, 2, 1, 2, 2, 1, 0, 0, 0, 1, 2, 1, 0, 1, 1, 0, 0, 2, 1, 1, 1, 0, 3, 1, 1, 3, 3, 1, 1, 3, 1, 1, 1, 1, 0, 0, 3, 1, 0, 0, 1, 0, 3, 3, 1, 0, 3, 0, 0, 3, 1, 1, 1, 0, 1, 0, 2, 1, 0, 2, 0, 0, 1, 1, 1, 3, 1, 3, 0, 1, 1, 1, 1, 1, 1, 1, 0, 1, 1, 1, 1, 1, 3, 0, 1, 1, 1, 1, 3, 3, 0, 1, 1, 3, 1, 1, 1, 3, 1, 1, 1, 0, 3, 0, 0, 0, 3, 1, 0, 0, 1, 1, 0, 3, 0, 1, 0, 1, 0, 1, 0, 0, 1, 1, 2, 1, 0, 1, 1, 0, 1, 1, 3, 3, 1, 1, 1, 1, 1, 1, 0, 1, 1, 1, 0, 0, 3, 0, 3, 1, 1, 1, 0, 0, 0, 0, 0, 1, 3, 1, 2, 1, 0, 1, 1, 1, 3, 1, 0, 1, 0, 1, 1, 0, 3, 0, 1, 3, 1, 3, 0, 0, 1, 0, 0, 1, 1, 1, 1, 1, 1, 1, 0, 3, 1, 1, 3, 0, 0, 0, 0, 1, 1, 1, 3, 3, 3, 1, 2, 0, 1, 0, 3, 0, 0, 3, 1, 1, 0, 1, 3, 0, 3, 0, 1, 1, 1, 1, 3, 0, 3, 1, 1, 3, 1, 0, 0, 0, 1, 0, 1, 1, 1, 1, 0, 3, 1, 1, 1, 1, 3, 0, 3, 1, 0, 3, 0, 1, 0, 1, 0, 1, 3, 3, 3, 0, 1, 0, 0, 2, 0, 2, 1, 0, 1, 1, 1, 1, 1, 1, 2, 1, 0, 0, 0, 0, 0, 1, 2, 0, 1, 3, 1, 1, 1, 0, 0, 1, 1, 1, 0, 1, 0, 1, 1, 1, 3, 1, 1, 3, 1, 1, 0, 0, 3, 1, 3, 0, 1, 1, 1, 1, 1, 3, 1, 1, 1, 0, 1, 1, 2, 1, 1, 0, 3, 1, 0, 0, 3, 0, 1, 1, 1, 1, 1, 0, 3, 3, 3, 1, 2, 0, 1, 1, 0, 1, 1, 0, 1, 1, 0, 3, 1, 1, 1, 3, 0, 0, 3, 0, 1, 3, 1, 0, 1, 1, 1, 3, 1, 2, 1, 1, 0, 0, 2, 1, 1, 0, 0, 3, 0, 1, 3, 1, 1, 1, 0, 1, 1, 2, 0, 0, 3, 1, 0, 0, 1, 0, 0, 0, 1, 1, 1, 1, 1, 3, 0, 1, 0, 0, 0, 1, 3, 1, 0, 3, 1, 2, 0, 0, 1, 1, 2, 1, 1, 1, 1, 1, 1, 2, 1, 1, 1, 3, 1, 1, 3, 3, 1, 1, 0, 1, 0, 3, 3, 1, 0, 1, 1, 1, 2, 1, 0, 1, 2, 0, 1, 1, 0, 3, 2, 1, 0, 3, 1, 1, 1, 1, 0, 1, 0]\n",
      "[(1, 352), (0, 217), (3, 116), (2, 35)]\n",
      "The Eastern Forehand Grip (Bevel #3)\n"
     ]
    }
   ],
   "source": [
    "\n",
    "\n",
    "##testing live data \n",
    "file_name = data_dir + \"test_eastfore.csv\"\n",
    "\n",
    "\n",
    "reader = csv.reader(open(file_name, \"rb\"), delimiter=\",\")\n",
    "x = list(reader)\n",
    "emg_pods_test = np.array(x[1:])[:,1:9].astype('float32')\n",
    "emg_pods_test = np.expand_dims(emg_pods_test, axis=2)\n",
    "new_model_prediction = [np.argmax(model.predict(np.expand_dims(test_vector, axis=0))) for test_vector in emg_pods_test]\n",
    "print new_model_prediction\n",
    "from collections import Counter\n",
    "counter = Counter(new_model_prediction).most_common(5)\n",
    "print (counter)\n",
    "print(grips_type[counter[0][0]])\n",
    "\n",
    "\n",
    "\n"
   ]
  },
  {
   "cell_type": "code",
   "execution_count": 389,
   "metadata": {},
   "outputs": [
    {
     "name": "stdout",
     "output_type": "stream",
     "text": [
      "[1, 3, 3, 3, 1, 0, 1, 1, 3, 0, 1, 1, 1, 1, 0, 0, 0, 1, 3, 0, 1, 0, 1, 3, 0, 1, 0, 0, 1, 1, 1, 0, 1, 1, 3, 1, 0, 0, 0, 3, 3, 1, 1, 1, 1, 1, 1, 0, 1, 1, 1, 1, 2, 1, 0, 1, 0, 0, 0, 0, 0, 0, 1, 0, 2, 3, 0, 0, 1, 1, 1, 0, 0, 1, 0, 1, 1, 2, 0, 3, 0, 0, 1, 0, 1, 0, 1, 1, 0, 1, 1, 3, 1, 1, 0, 0, 1, 0, 1, 3, 3, 3, 3, 1, 0, 1, 1, 0, 0, 1, 0, 3, 3, 1, 3, 0, 1, 3, 1, 0, 1, 3, 1, 1, 1, 1, 0, 0, 3, 0, 1, 1, 1, 3, 1, 1, 3, 0, 1, 0, 1, 3, 2, 1, 1, 1, 1, 1, 0, 1, 0, 3, 0, 1, 1, 0, 0, 0, 1, 0, 3, 1, 3, 1, 1, 1, 1, 1, 1, 1, 0, 1, 2, 1, 1, 1, 1, 1, 1, 1, 1, 0, 3, 2, 0, 1, 1, 0, 0, 1, 1, 0, 0, 1, 1, 1, 1, 3, 1, 0, 1, 1, 1, 3, 1, 1, 1, 3, 1, 0, 1, 0, 3, 1, 1, 1, 0, 1, 3, 3, 1, 1, 1, 1, 1, 0, 3, 0, 1, 0, 3, 2, 0, 1, 0, 0, 3, 1, 2, 3, 0, 1, 1, 1, 0, 1, 3, 1, 0, 0, 0, 1, 1, 1, 1, 1, 2, 3, 1, 1, 1, 1, 3, 1, 1, 1, 0, 3, 0, 1, 0, 1, 0, 1, 1, 1, 0, 1, 0, 0, 3, 1, 1, 1, 1, 1, 0, 1, 1, 0, 1, 3, 1, 3, 3, 2, 1, 1, 1, 1, 0, 1, 1, 1, 1, 1, 2, 1, 1, 1, 0, 1, 1, 3, 1, 1, 1, 1, 1, 0, 3, 3, 1, 1, 0, 0, 0, 0, 0, 1, 0, 1, 1, 0, 1, 1, 1, 1, 3, 1, 1, 1, 1, 0, 0, 1, 0, 0, 0, 3, 1, 1, 1, 1, 0, 1, 1, 1, 0, 1, 1, 1, 1, 1, 0, 3, 1, 1, 1, 1, 1, 3, 1, 2, 0, 1, 0, 1, 3, 0, 1, 0, 1, 1, 0, 2, 0, 1, 0, 1, 0, 1, 1, 1, 0, 1, 0, 1, 1, 1, 0, 1, 1, 1, 1, 0, 1, 1, 0, 1, 0, 1, 0, 1, 1, 1, 0, 0, 1, 1, 0, 1, 1, 1, 0, 3, 1, 0, 1, 1, 0, 1, 1, 0, 1, 1, 3, 1, 1, 3, 2, 1, 1, 0, 0, 1, 1, 1, 1, 1, 1, 1, 0, 0, 3, 1, 3, 0, 1, 0, 0, 1, 0, 3, 3, 1, 1, 1, 3, 0, 1, 1, 0, 0, 1, 0, 1, 1, 3, 1, 1, 1, 3, 0, 0, 3, 1, 0, 0, 0, 3, 1, 1, 1, 1, 1, 3, 1, 1, 1, 1, 1, 1, 0, 1, 1, 1, 1, 3, 0, 1, 0, 1, 0, 1, 3, 1, 1, 1, 1, 3, 1, 3, 1, 1, 3, 0, 0, 3, 1, 0, 1, 0, 1, 1, 3, 0, 1, 1, 0, 0, 1, 3, 1, 1, 0, 1, 1, 3, 2, 1, 1, 1, 0, 1, 1, 0, 3, 3, 3, 1, 1, 0, 2, 1, 1, 1, 1, 0, 0, 1, 1, 1, 1, 1, 0, 1, 1, 0, 1, 0, 0, 1, 1, 1, 1, 1, 1, 1, 0, 1, 1, 0, 1, 3, 1, 0, 0, 1, 0, 1, 1, 1, 1, 1, 1, 1, 1, 0, 3, 1, 1, 0, 1, 0, 1, 0, 1, 1, 1, 1, 1, 1, 1, 0, 1, 3, 1, 1, 0, 1, 1, 0, 1, 0, 0, 1, 0, 0, 0, 0, 0, 1, 0, 0, 1, 0, 1, 1, 2, 0, 0, 1, 0, 1, 0, 1, 0, 1, 2, 0, 0, 1, 1, 3, 1, 3, 1, 0, 2, 0, 1, 0, 1, 2, 0, 1, 0, 1, 0, 0]\n",
      "[(1, 376), (0, 200), (3, 85), (2, 20)]\n",
      "The Eastern Forehand Grip (Bevel #3)\n"
     ]
    }
   ],
   "source": [
    "\n",
    "##testing live data \n",
    "file_name = data_dir + \"test_westernfore.csv\"\n",
    "\n",
    "\n",
    "reader = csv.reader(open(file_name, \"rb\"), delimiter=\",\")\n",
    "x = list(reader)\n",
    "emg_pods_test = np.array(x[1:])[:,1:9].astype('float32')\n",
    "emg_pods_test = np.expand_dims(emg_pods_test, axis=2)\n",
    "new_model_prediction = [np.argmax(model.predict(np.expand_dims(test_vector, axis=0))) for test_vector in emg_pods_test]\n",
    "print new_model_prediction\n",
    "from collections import Counter\n",
    "counter = Counter(new_model_prediction).most_common(5)\n",
    "print (counter)\n",
    "print(grips_type[counter[0][0]])"
   ]
  },
  {
   "cell_type": "code",
   "execution_count": null,
   "metadata": {},
   "outputs": [],
   "source": []
  },
  {
   "cell_type": "code",
   "execution_count": null,
   "metadata": {},
   "outputs": [],
   "source": []
  }
 ],
 "metadata": {
  "kernelspec": {
   "display_name": "Python 2",
   "language": "python",
   "name": "python2"
  },
  "language_info": {
   "codemirror_mode": {
    "name": "ipython",
    "version": 2
   },
   "file_extension": ".py",
   "mimetype": "text/x-python",
   "name": "python",
   "nbconvert_exporter": "python",
   "pygments_lexer": "ipython2",
   "version": "2.7.14"
  }
 },
 "nbformat": 4,
 "nbformat_minor": 2
}
